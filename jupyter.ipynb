{
 "nbformat": 4,
 "nbformat_minor": 2,
 "metadata": {
  "language_info": {
   "name": "python",
   "codemirror_mode": {
    "name": "ipython",
    "version": 3
   },
   "version": "3.6.9-final"
  },
  "orig_nbformat": 2,
  "file_extension": ".py",
  "mimetype": "text/x-python",
  "name": "python",
  "npconvert_exporter": "python",
  "pygments_lexer": "ipython3",
  "version": 3,
  "kernelspec": {
   "name": "python36964bitconda36condaf18e6bbdefce4a9b812607ef02825dfe",
   "display_name": "Python 3.6.9 64-bit ('conda36': conda)"
  }
 },
 "cells": [
  {
   "cell_type": "code",
   "execution_count": 1,
   "metadata": {},
   "outputs": [
    {
     "name": "stdout",
     "output_type": "stream",
     "text": "genes GSM742944 GSM2326089 GSM1807974 GSM1807990 GSM2055788 GSM2142335  \\\n0   A1BG         0         92      11663       2089      18808        183   \n1   A1CF         0         17       5738        490      14035          5   \n2    A2M      6362        304      39269       8299      20260         97   \n3  A2ML1         0         22         11          2         39          8   \n4  A2MP1         0          3        167          7         44         15   \n\n  GSM1807979 GSM1695909 GSM1554468  ... GSM2653842 GSM2653843 GSM2653844  \\\n0       5123      79640       1595  ...         30         22         17   \n1       7127      10168        241  ...          9          4         15   \n2      27210      63297       5817  ...          8          6          2   \n3          4          9          5  ...          4          5          1   \n4         16         61          2  ...          0          0          0   \n\n  GSM2653845 GSM2653846 GSM2653847 GSM2653849 GSM2653850 GSM2653851 GSM2653853  \n0         49        394         12          8          6         10          8  \n1         19        105          5          8          4          2         24  \n2          0        374          0          4          1          3          1  \n3          4          1          6          3          3          3          1  \n4          0          0          0          0          0          0          0  \n\n[5 rows x 904 columns]\n"
    }
   ],
   "source": [
    "import pandas as pd\n",
    "import sqlalchemy\n",
    "from sqlalchemy import create_engine\n",
    "import pandas_profiling\n",
    "\n",
    "\n",
    "# connecting to local sql database, this code below works 2-28-20\n",
    "SERVER = 'ETHINK'\n",
    "DATABASE = 'csv_test'\n",
    "DRIVER = 'SQL Server Native Client 11.0'\n",
    "USERNAME = ''\n",
    "PASSWORD = ''\n",
    "DATABASE_CONNECTION = f'mssql://{USERNAME}:{PASSWORD}@{SERVER}/{DATABASE}?driver={DRIVER}'\n",
    "\n",
    "# engine is the db connection method, mthinks\n",
    "engine = create_engine(DATABASE_CONNECTION)\n",
    "connection = engine.connect()\n",
    "\n",
    "\n",
    "df = pd.read_sql_table(\"human_liver\", connection)\n",
    "print(df.head())"
   ]
  }
 ]
}