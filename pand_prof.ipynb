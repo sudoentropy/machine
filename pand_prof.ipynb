{
 "cells": [
  {
   "cell_type": "code",
   "execution_count": 1,
   "metadata": {},
   "outputs": [],
   "source": [
    "\"\"\"\n",
    "data anlysis in juypyter\n",
    "\"\"\"\n",
    "\n",
    "import pandas as pd\n",
    "import sqlalchemy\n",
    "from sqlalchemy import create_engine\n",
    "import pandas_profiling\n",
    "from pandas_profiling import ProfileReport\n",
    "\n",
    "SERVER = 'ETHINK'\n",
    "DATABASE = 'csv_test'\n",
    "DRIVER = 'SQL Server Native Client 11.0'\n",
    "USERNAME = ''\n",
    "PASSWORD = ''\n",
    "DATABASE_CONNECTION = f'mssql://{USERNAME}:{PASSWORD}@{SERVER}/{DATABASE}?driver={DRIVER}'\n",
    "\n",
    "engine = create_engine(DATABASE_CONNECTION)\n",
    "connection = engine.connect()\n",
    "\n",
    "\n",
    "df = pd.read_sql_table(\"human_liver\", connection)\n",
    "# this will generate a nice report for exploratory data anlysis\n",
    "# ProfileReport(df)\n"
   ]
  },
  {
   "cell_type": "code",
   "execution_count": null,
   "metadata": {},
   "outputs": [],
   "source": []
  }
 ],
 "metadata": {
  "kernelspec": {
   "display_name": "Python 3.6.10 64-bit ('conda36': conda)",
   "language": "python",
   "name": "python361064bitconda36condafd48bcb101e94b9ba3f77f5fe170d11c"
  },
  "language_info": {
   "codemirror_mode": {
    "name": "ipython",
    "version": 3
   },
   "file_extension": ".py",
   "mimetype": "text/x-python",
   "name": "python",
   "nbconvert_exporter": "python",
   "pygments_lexer": "ipython3",
   "version": "3.6.10"
  }
 },
 "nbformat": 4,
 "nbformat_minor": 4
}
